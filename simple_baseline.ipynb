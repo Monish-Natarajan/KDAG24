{
 "cells": [
  {
   "cell_type": "markdown",
   "metadata": {},
   "source": [
    "### imports"
   ]
  },
  {
   "cell_type": "code",
   "execution_count": 72,
   "metadata": {},
   "outputs": [],
   "source": [
    "\n",
    "import os\n",
    "import numpy as np\n",
    "import pandas as pd\n",
    "import seaborn as sns;sns.set()\n",
    "from plotly.subplots import make_subplots\n",
    "import plotly.graph_objects as go\n",
    "import plotly.express as px\n",
    "\n",
    "import matplotlib.pyplot as plt\n",
    "from matplotlib import cm\n",
    "from pandas import read_csv, set_option\n",
    "from sklearn.preprocessing import StandardScaler, MinMaxScaler, Normalizer,RobustScaler\n",
    "from sklearn.model_selection import train_test_split, KFold, cross_val_score, GridSearchCV\n",
    "from sklearn.linear_model import LogisticRegression\n",
    "from sklearn.tree import DecisionTreeClassifier\n",
    "from sklearn.neighbors import KNeighborsClassifier\n",
    "from sklearn.discriminant_analysis import LinearDiscriminantAnalysis\n",
    "from sklearn.naive_bayes import GaussianNB\n",
    "from sklearn.svm import SVC\n",
    "from sklearn.neural_network import MLPClassifier\n",
    "from sklearn.ensemble import RandomForestClassifier,RandomForestRegressor\n",
    "from sklearn.feature_selection import SelectKBest,f_regression\n",
    "from sklearn.model_selection import learning_curve\n",
    "from sklearn.pipeline import Pipeline\n",
    "from sklearn.ensemble import AdaBoostClassifier, GradientBoostingClassifier, RandomForestClassifier, ExtraTreesClassifier\n",
    "from sklearn.metrics import classification_report, confusion_matrix, accuracy_score\n",
    "from sklearn import preprocessing\n",
    "import shap\n",
    "\n",
    "from sklearn.decomposition import PCA\n",
    "from sklearn.decomposition import SparsePCA\n",
    "from sklearn.decomposition import KernelPCA\n",
    "from sklearn.decomposition import IncrementalPCA\n",
    "from sklearn.decomposition import TruncatedSVD\n",
    "from sklearn.decomposition import MiniBatchDictionaryLearning\n",
    "from sklearn.decomposition import FastICA\n",
    "from sklearn.manifold import Isomap\n",
    "from sklearn.manifold import MDS\n",
    "from sklearn.manifold import LocallyLinearEmbedding\n",
    "from sklearn.manifold import TSNE\n",
    "from sklearn.random_projection import GaussianRandomProjection\n",
    "from sklearn.random_projection import SparseRandomProjection\n",
    "\n",
    "# from xgboost import plot_importance,XGBClassifier,XGBRegressor\n",
    "# from catboost import CatBoostClassifier,CatBoostRegressor\n",
    "\n",
    "\n",
    "import time\n",
    "import warnings\n",
    "warnings.filterwarnings('ignore')\n",
    "sns.set(style='whitegrid')\n",
    "%matplotlib inline"
   ]
  },
  {
   "cell_type": "code",
   "execution_count": 10,
   "metadata": {},
   "outputs": [],
   "source": [
    "# import requests\n",
    "# import pandas as pd\n",
    "\n",
    "# # Define the API endpoint and parameters\n",
    "# url = 'https://api.binance.com/api/v3/klines'\n",
    "# params = {\n",
    "#     'symbol': 'BTCUSDT',\n",
    "#     'interval': '1m',\n",
    "#     'startTime': 1514764800000,  # 2018-01-01 00:00:00 in milliseconds\n",
    "#     'endTime': 1672473599999  # 2022-01-31 23:59:59 in milliseconds\n",
    "# }\n",
    "\n",
    "# # Send the API request\n",
    "# response = requests.get(url, params=params)\n",
    "# data = response.json()\n",
    "\n",
    "# # Convert the response data into a pandas DataFrame\n",
    "# df = pd.DataFrame(data, columns=['Open time', 'Open', 'High', 'Low', 'Close', 'Volume', 'Close time', 'Quote asset volume',\n",
    "#                                  'Number of trades', 'Taker buy base asset volume', 'Taker buy quote asset volume', 'Ignore'])\n",
    "\n",
    "# # Convert the timestamp from milliseconds to datetime\n",
    "# df['Open time'] = pd.to_datetime(df['Open time'], unit='ms')\n",
    "# df"
   ]
  },
  {
   "cell_type": "code",
   "execution_count": 2,
   "metadata": {},
   "outputs": [
    {
     "data": {
      "text/html": [
       "<div>\n",
       "<style scoped>\n",
       "    .dataframe tbody tr th:only-of-type {\n",
       "        vertical-align: middle;\n",
       "    }\n",
       "\n",
       "    .dataframe tbody tr th {\n",
       "        vertical-align: top;\n",
       "    }\n",
       "\n",
       "    .dataframe thead th {\n",
       "        text-align: right;\n",
       "    }\n",
       "</style>\n",
       "<table border=\"1\" class=\"dataframe\">\n",
       "  <thead>\n",
       "    <tr style=\"text-align: right;\">\n",
       "      <th></th>\n",
       "      <th>Timestamp</th>\n",
       "      <th>Open</th>\n",
       "      <th>High</th>\n",
       "      <th>Low</th>\n",
       "      <th>Close</th>\n",
       "      <th>Volume_(BTC)</th>\n",
       "      <th>Volume_(Currency)</th>\n",
       "      <th>Weighted_Price</th>\n",
       "    </tr>\n",
       "  </thead>\n",
       "  <tbody>\n",
       "    <tr>\n",
       "      <th>0</th>\n",
       "      <td>1325317920</td>\n",
       "      <td>4.39</td>\n",
       "      <td>4.39</td>\n",
       "      <td>4.39</td>\n",
       "      <td>4.39</td>\n",
       "      <td>0.455581</td>\n",
       "      <td>2.0</td>\n",
       "      <td>4.39</td>\n",
       "    </tr>\n",
       "    <tr>\n",
       "      <th>1</th>\n",
       "      <td>1325317980</td>\n",
       "      <td>NaN</td>\n",
       "      <td>NaN</td>\n",
       "      <td>NaN</td>\n",
       "      <td>NaN</td>\n",
       "      <td>NaN</td>\n",
       "      <td>NaN</td>\n",
       "      <td>NaN</td>\n",
       "    </tr>\n",
       "    <tr>\n",
       "      <th>2</th>\n",
       "      <td>1325318040</td>\n",
       "      <td>NaN</td>\n",
       "      <td>NaN</td>\n",
       "      <td>NaN</td>\n",
       "      <td>NaN</td>\n",
       "      <td>NaN</td>\n",
       "      <td>NaN</td>\n",
       "      <td>NaN</td>\n",
       "    </tr>\n",
       "    <tr>\n",
       "      <th>3</th>\n",
       "      <td>1325318100</td>\n",
       "      <td>NaN</td>\n",
       "      <td>NaN</td>\n",
       "      <td>NaN</td>\n",
       "      <td>NaN</td>\n",
       "      <td>NaN</td>\n",
       "      <td>NaN</td>\n",
       "      <td>NaN</td>\n",
       "    </tr>\n",
       "    <tr>\n",
       "      <th>4</th>\n",
       "      <td>1325318160</td>\n",
       "      <td>NaN</td>\n",
       "      <td>NaN</td>\n",
       "      <td>NaN</td>\n",
       "      <td>NaN</td>\n",
       "      <td>NaN</td>\n",
       "      <td>NaN</td>\n",
       "      <td>NaN</td>\n",
       "    </tr>\n",
       "  </tbody>\n",
       "</table>\n",
       "</div>"
      ],
      "text/plain": [
       "    Timestamp  Open  High   Low  Close  Volume_(BTC)  Volume_(Currency)  \\\n",
       "0  1325317920  4.39  4.39  4.39   4.39      0.455581                2.0   \n",
       "1  1325317980   NaN   NaN   NaN    NaN           NaN                NaN   \n",
       "2  1325318040   NaN   NaN   NaN    NaN           NaN                NaN   \n",
       "3  1325318100   NaN   NaN   NaN    NaN           NaN                NaN   \n",
       "4  1325318160   NaN   NaN   NaN    NaN           NaN                NaN   \n",
       "\n",
       "   Weighted_Price  \n",
       "0            4.39  \n",
       "1             NaN  \n",
       "2             NaN  \n",
       "3             NaN  \n",
       "4             NaN  "
      ]
     },
     "execution_count": 2,
     "metadata": {},
     "output_type": "execute_result"
    }
   ],
   "source": [
    "original_df = pd.read_csv('bitstampUSD_1-min_data_2012-01-01_to_2021-03-31.csv')\n",
    "original_df.head()"
   ]
  },
  {
   "cell_type": "code",
   "execution_count": 5,
   "metadata": {},
   "outputs": [
    {
     "name": "stdout",
     "output_type": "stream",
     "text": [
      "<class 'pandas.core.frame.DataFrame'>\n",
      "RangeIndex: 4857377 entries, 0 to 4857376\n",
      "Data columns (total 8 columns):\n",
      " #   Column             Dtype  \n",
      "---  ------             -----  \n",
      " 0   Timestamp          int64  \n",
      " 1   Open               float64\n",
      " 2   High               float64\n",
      " 3   Low                float64\n",
      " 4   Close              float64\n",
      " 5   Volume_(BTC)       float64\n",
      " 6   Volume_(Currency)  float64\n",
      " 7   Weighted_Price     float64\n",
      "dtypes: float64(7), int64(1)\n",
      "memory usage: 296.5 MB\n"
     ]
    }
   ],
   "source": [
    "original_df.info()"
   ]
  },
  {
   "cell_type": "code",
   "execution_count": 29,
   "metadata": {},
   "outputs": [
    {
     "data": {
      "text/plain": [
       "Timestamp             0.00000\n",
       "Open                 25.60246\n",
       "High                 25.60246\n",
       "Low                  25.60246\n",
       "Close                25.60246\n",
       "Volume_(BTC)         25.60246\n",
       "Volume_(Currency)    25.60246\n",
       "Weighted_Price       25.60246\n",
       "dtype: float64"
      ]
     },
     "execution_count": 29,
     "metadata": {},
     "output_type": "execute_result"
    }
   ],
   "source": [
    "# get % null values in each column\n",
    "original_df.isnull().sum()/len(original_df)*100   \n"
   ]
  },
  {
   "cell_type": "code",
   "execution_count": 3,
   "metadata": {},
   "outputs": [],
   "source": [
    "# convert timestamp to datetime\n",
    "original_df['Timestamp'] = pd.to_datetime(original_df['Timestamp'], unit='s')\n"
   ]
  },
  {
   "cell_type": "code",
   "execution_count": 11,
   "metadata": {},
   "outputs": [
    {
     "data": {
      "text/plain": [
       "Text(0.5, 1.0, 'Bitcoin Weighted Price over Time')"
      ]
     },
     "execution_count": 11,
     "metadata": {},
     "output_type": "execute_result"
    },
    {
     "data": {
      "image/png": "[encoded data removed]",
      "text/plain": [
       "<Figure size 1200x800 with 1 Axes>"
      ]
     },
     "metadata": {},
     "output_type": "display_data"
    }
   ],
   "source": [
    "# plot a timeseries of the timestamp vs weighted price\n",
    "plt.figure(figsize=(12, 8))\n",
    "plt.plot(original_df['Timestamp'], original_df['Weighted_Price'])\n",
    "plt.title('Bitcoin Weighted Price over Time')\n"
   ]
  },
  {
   "cell_type": "code",
   "execution_count": 21,
   "metadata": {},
   "outputs": [],
   "source": [
    "from tqdm import tqdm"
   ]
  },
  {
   "cell_type": "code",
   "execution_count": null,
   "metadata": {},
   "outputs": [],
   "source": [
    "df = original_df.copy()"
   ]
  },
  {
   "cell_type": "code",
   "execution_count": 41,
   "metadata": {},
   "outputs": [
    {
     "data": {
      "text/plain": [
       "Text(0.5, 0, 'Difference between non-null indices')"
      ]
     },
     "execution_count": 41,
     "metadata": {},
     "output_type": "execute_result"
    },
    {
     "data": {
      "image/png": "[encoded data removed]",
      "text/plain": [
       "<Figure size 1200x800 with 1 Axes>"
      ]
     },
     "metadata": {},
     "output_type": "display_data"
    }
   ],
   "source": [
    "import numpy as np\n",
    "\n",
    "# get row index of non-null values df['Weighted_Price']\n",
    "indices = np.where(df['Weighted_Price'].notnull())[0]\n",
    "indices_diff = pd.Series(indices).diff()\n",
    "indices_diff = indices_diff[indices_diff > 1]\n",
    "unique, counts = np.unique(indices_diff, return_counts=True)\n",
    "\n",
    "# plot all unique values < 100\n",
    "plt.figure(figsize=(12, 8))\n",
    "plt.plot(unique[unique < 100], counts[unique < 100])\n",
    "plt.title('Distribution of non-null indices difference')\n",
    "plt.xlabel('Difference between non-null indices')"
   ]
  },
  {
   "cell_type": "code",
   "execution_count": 25,
   "metadata": {},
   "outputs": [
    {
     "data": {
      "text/html": [
       "<div>\n",
       "<style scoped>\n",
       "    .dataframe tbody tr th:only-of-type {\n",
       "        vertical-align: middle;\n",
       "    }\n",
       "\n",
       "    .dataframe tbody tr th {\n",
       "        vertical-align: top;\n",
       "    }\n",
       "\n",
       "    .dataframe thead th {\n",
       "        text-align: right;\n",
       "    }\n",
       "</style>\n",
       "<table border=\"1\" class=\"dataframe\">\n",
       "  <thead>\n",
       "    <tr style=\"text-align: right;\">\n",
       "      <th></th>\n",
       "      <th>Open</th>\n",
       "      <th>High</th>\n",
       "      <th>Low</th>\n",
       "      <th>Close</th>\n",
       "      <th>Volume_(BTC)</th>\n",
       "      <th>Volume_(Currency)</th>\n",
       "      <th>Weighted_Price</th>\n",
       "    </tr>\n",
       "    <tr>\n",
       "      <th>Timestamp</th>\n",
       "      <th></th>\n",
       "      <th></th>\n",
       "      <th></th>\n",
       "      <th></th>\n",
       "      <th></th>\n",
       "      <th></th>\n",
       "      <th></th>\n",
       "    </tr>\n",
       "  </thead>\n",
       "  <tbody>\n",
       "    <tr>\n",
       "      <th>2011-12-31 07:00:00</th>\n",
       "      <td>4</td>\n",
       "      <td>4</td>\n",
       "      <td>4</td>\n",
       "      <td>4</td>\n",
       "      <td>0</td>\n",
       "      <td>2</td>\n",
       "      <td>4</td>\n",
       "    </tr>\n",
       "    <tr>\n",
       "      <th>2011-12-31 08:00:00</th>\n",
       "      <td>NaN</td>\n",
       "      <td>NaN</td>\n",
       "      <td>NaN</td>\n",
       "      <td>NaN</td>\n",
       "      <td>NaN</td>\n",
       "      <td>NaN</td>\n",
       "      <td>NaN</td>\n",
       "    </tr>\n",
       "    <tr>\n",
       "      <th>2011-12-31 09:00:00</th>\n",
       "      <td>NaN</td>\n",
       "      <td>NaN</td>\n",
       "      <td>NaN</td>\n",
       "      <td>NaN</td>\n",
       "      <td>NaN</td>\n",
       "      <td>NaN</td>\n",
       "      <td>NaN</td>\n",
       "    </tr>\n",
       "    <tr>\n",
       "      <th>2011-12-31 10:00:00</th>\n",
       "      <td>NaN</td>\n",
       "      <td>NaN</td>\n",
       "      <td>NaN</td>\n",
       "      <td>NaN</td>\n",
       "      <td>NaN</td>\n",
       "      <td>NaN</td>\n",
       "      <td>NaN</td>\n",
       "    </tr>\n",
       "    <tr>\n",
       "      <th>2011-12-31 11:00:00</th>\n",
       "      <td>NaN</td>\n",
       "      <td>NaN</td>\n",
       "      <td>NaN</td>\n",
       "      <td>NaN</td>\n",
       "      <td>NaN</td>\n",
       "      <td>NaN</td>\n",
       "      <td>NaN</td>\n",
       "    </tr>\n",
       "  </tbody>\n",
       "</table>\n",
       "</div>"
      ],
      "text/plain": [
       "                     Open  High  Low  Close  Volume_(BTC)  Volume_(Currency)  \\\n",
       "Timestamp                                                                      \n",
       "2011-12-31 07:00:00     4     4    4      4             0                  2   \n",
       "2011-12-31 08:00:00   NaN   NaN  NaN    NaN           NaN                NaN   \n",
       "2011-12-31 09:00:00   NaN   NaN  NaN    NaN           NaN                NaN   \n",
       "2011-12-31 10:00:00   NaN   NaN  NaN    NaN           NaN                NaN   \n",
       "2011-12-31 11:00:00   NaN   NaN  NaN    NaN           NaN                NaN   \n",
       "\n",
       "                     Weighted_Price  \n",
       "Timestamp                            \n",
       "2011-12-31 07:00:00               4  \n",
       "2011-12-31 08:00:00             NaN  \n",
       "2011-12-31 09:00:00             NaN  \n",
       "2011-12-31 10:00:00             NaN  \n",
       "2011-12-31 11:00:00             NaN  "
      ]
     },
     "execution_count": 25,
     "metadata": {},
     "output_type": "execute_result"
    }
   ],
   "source": [
    "# obtain hourly data\n",
    "df_hourly = df.resample('H', on='Timestamp').mean()\n",
    "df_hourly.head()"
   ]
  },
  {
   "cell_type": "code",
   "execution_count": 27,
   "metadata": {},
   "outputs": [
    {
     "data": {
      "text/plain": [
       "Open                4\n",
       "High                4\n",
       "Low                 4\n",
       "Close               4\n",
       "Volume_(BTC)        4\n",
       "Volume_(Currency)   4\n",
       "Weighted_Price      4\n",
       "dtype: float64"
      ]
     },
     "execution_count": 27,
     "metadata": {},
     "output_type": "execute_result"
    }
   ],
   "source": [
    "# percentage of null values in each column\n",
    "df_hourly.isnull().sum()/len(df_hourly)*100"
   ]
  },
  {
   "cell_type": "markdown",
   "metadata": {},
   "source": [
    "### 1. Handling null values"
   ]
  },
  {
   "cell_type": "code",
   "execution_count": 58,
   "metadata": {},
   "outputs": [],
   "source": [
    "# obtain hourly data\n",
    "df = original_df.resample('H', on='Timestamp').mean()"
   ]
  },
  {
   "cell_type": "code",
   "execution_count": 59,
   "metadata": {},
   "outputs": [
    {
     "data": {
      "text/plain": [
       "Text(0.5, 0, 'Difference between non-null indices')"
      ]
     },
     "execution_count": 59,
     "metadata": {},
     "output_type": "execute_result"
    },
    {
     "data": {
      "image/png": "[encoded data removed]",
      "text/plain": [
       "<Figure size 1200x800 with 1 Axes>"
      ]
     },
     "metadata": {},
     "output_type": "display_data"
    }
   ],
   "source": [
    "# get row index of non-null values df['Weighted_Price']\n",
    "indices = np.where(df['Weighted_Price'].notnull())[0]\n",
    "indices_diff = pd.Series(indices).diff()\n",
    "indices_diff = indices_diff[indices_diff > 1]\n",
    "unique, counts = np.unique(indices_diff, return_counts=True)\n",
    "\n",
    "# plot all unique values < 100\n",
    "plt.figure(figsize=(12, 8))\n",
    "plt.plot(unique[unique < 100], counts[unique < 100])\n",
    "plt.title('Distribution of non-null indices difference')\n",
    "plt.xlabel('Difference between non-null indices')"
   ]
  },
  {
   "cell_type": "code",
   "execution_count": 60,
   "metadata": {},
   "outputs": [
    {
     "data": {
      "text/plain": [
       "Open                 0\n",
       "High                 0\n",
       "Low                  0\n",
       "Close                0\n",
       "Volume_(BTC)         0\n",
       "Volume_(Currency)    0\n",
       "Weighted_Price       0\n",
       "dtype: int64"
      ]
     },
     "execution_count": 60,
     "metadata": {},
     "output_type": "execute_result"
    }
   ],
   "source": [
    "# use forward fill to fill null values\n",
    "df = df.fillna(method='ffill')\n",
    "# do backfill incase there are null values at the start\n",
    "if df.isnull().sum().sum() > 0:\n",
    "    df = df.fillna(method='bfill')\n",
    "\n",
    "df.isnull().sum()"
   ]
  },
  {
   "cell_type": "markdown",
   "metadata": {},
   "source": [
    "### 2. Define target buy 'signal' for dataset"
   ]
  },
  {
   "cell_type": "code",
   "execution_count": 61,
   "metadata": {},
   "outputs": [],
   "source": [
    "# target buy signal\n",
    "df['signal'] = 0\n",
    "df.loc[df['Close'] > df['Close'].shift(1), 'signal'] = 1"
   ]
  },
  {
   "cell_type": "markdown",
   "metadata": {},
   "source": [
    "### 3. Add technical indicators as features"
   ]
  },
  {
   "cell_type": "code",
   "execution_count": 62,
   "metadata": {},
   "outputs": [],
   "source": [
    "''' Technical Indicators '''\n",
    "\n",
    "#Calculation of moving average\n",
    "def ma(df, n):\n",
    "    return pd.Series(df['Close'].rolling(n, min_periods=n).mean(), name='MA_' + str(n))\n",
    "\n",
    "# exponentially weighted moving average \n",
    "def ema(df, n):\n",
    "    return pd.Series(df['Close'].ewm(span=n,min_periods=n).mean(), name='EMA_' + str(n))\n",
    "\n",
    "#Calculation of price momentum\n",
    "def mom(df, n):     \n",
    "    return pd.Series(df.diff(n), name='Momentum_' + str(n))  \n",
    "\n",
    "# rate of change\n",
    "def roc(df, n):  \n",
    "    M = df.diff(n - 1) ; N = df.shift(n - 1)  \n",
    "    return pd.Series(((M / N) * 100), name = 'ROC_' + str(n)) \n",
    "\n",
    "# relative strength index\n",
    "def rsi(df, period):\n",
    "    delta = df.diff().dropna()\n",
    "    u = delta * 0; d = u.copy()\n",
    "    u[delta > 0] = delta[delta > 0]; d[delta < 0] = -delta[delta < 0]\n",
    "    u[u.index[period-1]] = np.mean( u[:period] ) #first value is sum of avg gains\n",
    "    u = u.drop(u.index[:(period-1)])\n",
    "    d[d.index[period-1]] = np.mean( d[:period] ) #first value is sum of avg losses\n",
    "    d = d.drop(d.index[:(period-1)])\n",
    "    rs = u.ewm(com=period-1, adjust=False).mean() / d.ewm(com=period-1, adjust=False).mean()\n",
    "    return 100 - 100 / (1 + rs)\n",
    "\n",
    "# stochastic oscillators slow & fast\n",
    "def sto(close, low, high, n,id): \n",
    "    stok = ((close - low.rolling(n).min()) / (high.rolling(n).max() - low.rolling(n).min())) * 100\n",
    "    if(id is 0):\n",
    "        return stok\n",
    "    else:\n",
    "        return stok.rolling(3).mean()"
   ]
  },
  {
   "cell_type": "code",
   "execution_count": 63,
   "metadata": {},
   "outputs": [],
   "source": [
    "def tech_indi(ldf,tr_id=True):\n",
    "\n",
    "    ''' Moving Average '''\n",
    "    ldf['MA21'] = ma(ldf,10)\n",
    "    ldf['MA63'] = ma(ldf, 30)\n",
    "    ldf['MA252'] = ma(ldf, 200)\n",
    "    lst_MA = ['MA21','MA63','MA252']\n",
    "\n",
    "    ''' Exponentially Weighted Moving Average '''\n",
    "    ldf['EMA10'] = ema(ldf, 10)\n",
    "    ldf['EMA30'] = ema(ldf, 30)\n",
    "    ldf['EMA200'] = ema(ldf, 200)\n",
    "    lst_EMA = ['EMA10','EMA30','EMA200']\n",
    "\n",
    "    ''' Momentum '''\n",
    "    ldf['MOM10'] = mom(ldf['Close'], 10)\n",
    "    ldf['MOM30'] = mom(ldf['Close'], 30)\n",
    "    lst_MOM = ['MOM10','MOM30']\n",
    "\n",
    "    ''' Relative Strength Index '''\n",
    "    ldf['RSI10'] = rsi(ldf['Close'], 10)\n",
    "    ldf['RSI30'] = rsi(ldf['Close'], 30)\n",
    "    ldf['RSI200'] = rsi(ldf['Close'], 200)\n",
    "    lst_RSI = ['RSI10','RSI30','RSI200']\n",
    "\n",
    "    ''' Slow Stochastic Oscillators '''\n",
    "    ldf['%K10'] = sto(ldf['Close'], ldf['Low'], ldf['High'],5,0)\n",
    "    ldf['%K30'] = sto(ldf['Close'], ldf['Low'], ldf['High'],10,0)\n",
    "    ldf['%K200'] = sto(ldf['Close'], ldf['Low'], ldf['High'], 20,0)\n",
    "    lst_pK = ['%K10','%K30','%K200']\n",
    "\n",
    "    ''' Fast Stochastic Oscillators '''\n",
    "    ldf['%D10'] = sto(ldf['Close'], ldf['Low'], ldf['High'], 10,1)\n",
    "    ldf['%D30'] = sto(ldf['Close'], ldf['Low'], ldf['High'], 30,1)\n",
    "    ldf['%D200'] = sto(ldf['Close'], ldf['Low'], ldf['High'], 200,1)\n",
    "    lst_pD = ['%D10','%D30','%D200']"
   ]
  },
  {
   "cell_type": "code",
   "execution_count": 64,
   "metadata": {},
   "outputs": [],
   "source": [
    "tech_indi(df)"
   ]
  },
  {
   "cell_type": "code",
   "execution_count": 68,
   "metadata": {},
   "outputs": [
    {
     "data": {
      "text/plain": [
       "Open                 0\n",
       "High                 0\n",
       "Low                  0\n",
       "Close                0\n",
       "Volume_(BTC)         0\n",
       "Volume_(Currency)    0\n",
       "Weighted_Price       0\n",
       "signal               0\n",
       "MA21                 0\n",
       "MA63                 0\n",
       "MA252                0\n",
       "EMA10                0\n",
       "EMA30                0\n",
       "EMA200               0\n",
       "MOM10                0\n",
       "MOM30                0\n",
       "RSI10                0\n",
       "RSI30                0\n",
       "RSI200               0\n",
       "%K10                 0\n",
       "%K30                 0\n",
       "%K200                0\n",
       "%D10                 0\n",
       "%D30                 0\n",
       "%D200                0\n",
       "dtype: int64"
      ]
     },
     "execution_count": 68,
     "metadata": {},
     "output_type": "execute_result"
    }
   ],
   "source": [
    "# use forward fill to fill null values\n",
    "df = df.fillna(method='ffill')\n",
    "# do backfill incase there are null values at the start\n",
    "if df.isnull().sum().sum() > 0:\n",
    "    df = df.fillna(method='bfill')\n",
    "\n",
    "df.isnull().sum()"
   ]
  },
  {
   "cell_type": "code",
   "execution_count": 69,
   "metadata": {},
   "outputs": [],
   "source": [
    "# split df into train, val, test -> 0.8, 0.1, 0.1\n",
    "train_size = int(len(df)*0.8)\n",
    "val_size = int(len(df)*0.1)\n",
    "test_size = int(len(df)*0.1)\n",
    "\n",
    "train_df = df[:train_size]\n",
    "val_df = df[train_size:train_size+val_size]\n",
    "test_df = df[train_size+val_size:]"
   ]
  },
  {
   "cell_type": "code",
   "execution_count": 70,
   "metadata": {},
   "outputs": [
    {
     "data": {
      "text/html": [
       "<div>\n",
       "<style scoped>\n",
       "    .dataframe tbody tr th:only-of-type {\n",
       "        vertical-align: middle;\n",
       "    }\n",
       "\n",
       "    .dataframe tbody tr th {\n",
       "        vertical-align: top;\n",
       "    }\n",
       "\n",
       "    .dataframe thead th {\n",
       "        text-align: right;\n",
       "    }\n",
       "</style>\n",
       "<table border=\"1\" class=\"dataframe\">\n",
       "  <thead>\n",
       "    <tr style=\"text-align: right;\">\n",
       "      <th></th>\n",
       "      <th>Open</th>\n",
       "      <th>High</th>\n",
       "      <th>Low</th>\n",
       "      <th>Close</th>\n",
       "      <th>Volume_(BTC)</th>\n",
       "      <th>Volume_(Currency)</th>\n",
       "      <th>Weighted_Price</th>\n",
       "      <th>signal</th>\n",
       "      <th>MA21</th>\n",
       "      <th>MA63</th>\n",
       "      <th>...</th>\n",
       "      <th>MOM30</th>\n",
       "      <th>RSI10</th>\n",
       "      <th>RSI30</th>\n",
       "      <th>RSI200</th>\n",
       "      <th>%K10</th>\n",
       "      <th>%K30</th>\n",
       "      <th>%K200</th>\n",
       "      <th>%D10</th>\n",
       "      <th>%D30</th>\n",
       "      <th>%D200</th>\n",
       "    </tr>\n",
       "    <tr>\n",
       "      <th>Timestamp</th>\n",
       "      <th></th>\n",
       "      <th></th>\n",
       "      <th></th>\n",
       "      <th></th>\n",
       "      <th></th>\n",
       "      <th></th>\n",
       "      <th></th>\n",
       "      <th></th>\n",
       "      <th></th>\n",
       "      <th></th>\n",
       "      <th></th>\n",
       "      <th></th>\n",
       "      <th></th>\n",
       "      <th></th>\n",
       "      <th></th>\n",
       "      <th></th>\n",
       "      <th></th>\n",
       "      <th></th>\n",
       "      <th></th>\n",
       "      <th></th>\n",
       "      <th></th>\n",
       "    </tr>\n",
       "  </thead>\n",
       "  <tbody>\n",
       "    <tr>\n",
       "      <th>2011-12-31 07:00:00</th>\n",
       "      <td>4</td>\n",
       "      <td>4</td>\n",
       "      <td>4</td>\n",
       "      <td>4</td>\n",
       "      <td>0</td>\n",
       "      <td>2</td>\n",
       "      <td>4</td>\n",
       "      <td>0</td>\n",
       "      <td>4</td>\n",
       "      <td>5</td>\n",
       "      <td>...</td>\n",
       "      <td>0</td>\n",
       "      <td>100</td>\n",
       "      <td>100</td>\n",
       "      <td>75</td>\n",
       "      <td>100</td>\n",
       "      <td>100</td>\n",
       "      <td>100</td>\n",
       "      <td>100</td>\n",
       "      <td>100</td>\n",
       "      <td>100</td>\n",
       "    </tr>\n",
       "    <tr>\n",
       "      <th>2011-12-31 08:00:00</th>\n",
       "      <td>4</td>\n",
       "      <td>4</td>\n",
       "      <td>4</td>\n",
       "      <td>4</td>\n",
       "      <td>0</td>\n",
       "      <td>2</td>\n",
       "      <td>4</td>\n",
       "      <td>0</td>\n",
       "      <td>4</td>\n",
       "      <td>5</td>\n",
       "      <td>...</td>\n",
       "      <td>0</td>\n",
       "      <td>100</td>\n",
       "      <td>100</td>\n",
       "      <td>75</td>\n",
       "      <td>100</td>\n",
       "      <td>100</td>\n",
       "      <td>100</td>\n",
       "      <td>100</td>\n",
       "      <td>100</td>\n",
       "      <td>100</td>\n",
       "    </tr>\n",
       "    <tr>\n",
       "      <th>2011-12-31 09:00:00</th>\n",
       "      <td>4</td>\n",
       "      <td>4</td>\n",
       "      <td>4</td>\n",
       "      <td>4</td>\n",
       "      <td>0</td>\n",
       "      <td>2</td>\n",
       "      <td>4</td>\n",
       "      <td>0</td>\n",
       "      <td>4</td>\n",
       "      <td>5</td>\n",
       "      <td>...</td>\n",
       "      <td>0</td>\n",
       "      <td>100</td>\n",
       "      <td>100</td>\n",
       "      <td>75</td>\n",
       "      <td>100</td>\n",
       "      <td>100</td>\n",
       "      <td>100</td>\n",
       "      <td>100</td>\n",
       "      <td>100</td>\n",
       "      <td>100</td>\n",
       "    </tr>\n",
       "    <tr>\n",
       "      <th>2011-12-31 10:00:00</th>\n",
       "      <td>4</td>\n",
       "      <td>4</td>\n",
       "      <td>4</td>\n",
       "      <td>4</td>\n",
       "      <td>0</td>\n",
       "      <td>2</td>\n",
       "      <td>4</td>\n",
       "      <td>0</td>\n",
       "      <td>4</td>\n",
       "      <td>5</td>\n",
       "      <td>...</td>\n",
       "      <td>0</td>\n",
       "      <td>100</td>\n",
       "      <td>100</td>\n",
       "      <td>75</td>\n",
       "      <td>100</td>\n",
       "      <td>100</td>\n",
       "      <td>100</td>\n",
       "      <td>100</td>\n",
       "      <td>100</td>\n",
       "      <td>100</td>\n",
       "    </tr>\n",
       "    <tr>\n",
       "      <th>2011-12-31 11:00:00</th>\n",
       "      <td>4</td>\n",
       "      <td>4</td>\n",
       "      <td>4</td>\n",
       "      <td>4</td>\n",
       "      <td>0</td>\n",
       "      <td>2</td>\n",
       "      <td>4</td>\n",
       "      <td>0</td>\n",
       "      <td>4</td>\n",
       "      <td>5</td>\n",
       "      <td>...</td>\n",
       "      <td>0</td>\n",
       "      <td>100</td>\n",
       "      <td>100</td>\n",
       "      <td>75</td>\n",
       "      <td>100</td>\n",
       "      <td>100</td>\n",
       "      <td>100</td>\n",
       "      <td>100</td>\n",
       "      <td>100</td>\n",
       "      <td>100</td>\n",
       "    </tr>\n",
       "  </tbody>\n",
       "</table>\n",
       "<p>5 rows × 25 columns</p>\n",
       "</div>"
      ],
      "text/plain": [
       "                     Open  High  Low  Close  Volume_(BTC)  Volume_(Currency)  \\\n",
       "Timestamp                                                                      \n",
       "2011-12-31 07:00:00     4     4    4      4             0                  2   \n",
       "2011-12-31 08:00:00     4     4    4      4             0                  2   \n",
       "2011-12-31 09:00:00     4     4    4      4             0                  2   \n",
       "2011-12-31 10:00:00     4     4    4      4             0                  2   \n",
       "2011-12-31 11:00:00     4     4    4      4             0                  2   \n",
       "\n",
       "                     Weighted_Price  signal  MA21  MA63  ...  MOM30  RSI10  \\\n",
       "Timestamp                                                ...                 \n",
       "2011-12-31 07:00:00               4       0     4     5  ...      0    100   \n",
       "2011-12-31 08:00:00               4       0     4     5  ...      0    100   \n",
       "2011-12-31 09:00:00               4       0     4     5  ...      0    100   \n",
       "2011-12-31 10:00:00               4       0     4     5  ...      0    100   \n",
       "2011-12-31 11:00:00               4       0     4     5  ...      0    100   \n",
       "\n",
       "                     RSI30  RSI200  %K10  %K30  %K200  %D10  %D30  %D200  \n",
       "Timestamp                                                                 \n",
       "2011-12-31 07:00:00    100      75   100   100    100   100   100    100  \n",
       "2011-12-31 08:00:00    100      75   100   100    100   100   100    100  \n",
       "2011-12-31 09:00:00    100      75   100   100    100   100   100    100  \n",
       "2011-12-31 10:00:00    100      75   100   100    100   100   100    100  \n",
       "2011-12-31 11:00:00    100      75   100   100    100   100   100    100  \n",
       "\n",
       "[5 rows x 25 columns]"
      ]
     },
     "execution_count": 70,
     "metadata": {},
     "output_type": "execute_result"
    }
   ],
   "source": [
    "df.head()"
   ]
  },
  {
   "cell_type": "markdown",
   "metadata": {},
   "source": [
    "### 4. training models"
   ]
  },
  {
   "cell_type": "code",
   "execution_count": 79,
   "metadata": {},
   "outputs": [],
   "source": [
    "models = []\n",
    "# Lightweight Models \n",
    "models.append(('LDA', LinearDiscriminantAnalysis()))  # Unsupervised Model \n",
    "# models.append(('KNN', KNeighborsClassifier()))  # Unsupervised Model\n",
    "models.append(('TREE', DecisionTreeClassifier())) # Supervised Model\n",
    "models.append(('NB', GaussianNB())) # Unsupervised Model\n",
    "\n",
    "# More Advanced Models\n",
    "models.append(('GBM', GradientBoostingClassifier(n_estimators=25)))\n",
    "# models.append(('XGB',XGBClassifier(n_estimators=25,eval_metric='logloss')))\n",
    "# models.append(('CAT',CatBoostClassifier(silent=True,\n",
    "#                                         n_estimators=25)))\n",
    "models.append(('RF', RandomForestClassifier(n_estimators=25)))"
   ]
  },
  {
   "cell_type": "code",
   "execution_count": 87,
   "metadata": {},
   "outputs": [
    {
     "data": {
      "text/plain": [
       "[('LDA', LinearDiscriminantAnalysis()),\n",
       " ('TREE', DecisionTreeClassifier()),\n",
       " ('NB', GaussianNB()),\n",
       " ('GBM', GradientBoostingClassifier(n_estimators=25)),\n",
       " ('RF', RandomForestClassifier(n_estimators=25))]"
      ]
     },
     "execution_count": 87,
     "metadata": {},
     "output_type": "execute_result"
    }
   ],
   "source": [
    "models"
   ]
  },
  {
   "cell_type": "code",
   "execution_count": 80,
   "metadata": {},
   "outputs": [],
   "source": [
    "# eval_id (T/F): [CV,Train,Test,all]\n",
    "\n",
    "def modelEval(ldf,feature='signal',split_id=[None,None],eval_id=[True,True,True,True],\n",
    "              n_fold=5,scoring='accuracy',plot_id=[False,True],cv_yrange=None,hm_vvals=[0.5,1.0,0.75]):\n",
    "    \n",
    "    print('Evaluation Function')\n",
    "    print(f'Cross Validation Activated, n_splits : {n_fold}, scoring metric: {scoring}')\n",
    "    if(eval_id[2]):\n",
    "        if(split_id[0] is not None):\n",
    "            print(f'Train/Evaluation Set Spit Activated: {split_id[0]}')\n",
    "        if(split_id[1] is not None):\n",
    "            print(f'Train/Evaluation Set Split made at {split_id[1]}')\n",
    "    \n",
    "    ''' 1. Split Train/Evaluation <DataFrame> Set Split '''\n",
    "    \n",
    "    # split_id : Train/Test split [%,timestamp], whichever is not None\n",
    "    # test_id : Evaluate trained model on test set only\n",
    "    \n",
    "    if(split_id[0] is not None):\n",
    "        # General Percentage Split (Non Shuffle requied for Time Series)\n",
    "        train_df,eval_df = train_test_split(ldf,test_size=split_id[0],shuffle=False)\n",
    "    elif(split_id[1] is not None):\n",
    "        # specific time split \n",
    "        train_df = df.loc[:split_id[1]]; eval_df = df.loc[split_id[1]:] \n",
    "    else:\n",
    "        print('Choose One Splitting Method Only')\n",
    "        \n",
    "    ''' 2. Train/Test Feature Matrices + Target Variables Split'''\n",
    "    \n",
    "    y_train = train_df[feature]\n",
    "    X_train = train_df.loc[:, train_df.columns != feature]\n",
    "    y_eval = eval_df[feature]\n",
    "    X_eval = eval_df.loc[:, eval_df.columns != feature]\n",
    "    X_one = pd.concat([X_train,X_eval],axis=0)\n",
    "    y_one = pd.concat([y_train,y_eval],axis=0)\n",
    "    \n",
    "    print('');print(f'Using Features: {X_train.columns}')\n",
    "    print(f'Target Variable: {feature}');print('')\n",
    "        \n",
    "    ''' 3. Visualise Training/Test Data'''\n",
    "    if(plot_id[0]):\n",
    "        \n",
    "        # plot the training data\n",
    "        fig = go.Figure()\n",
    "        fig.add_trace(go.Scatter(x=train_df.index, y=train_df['signal'],mode='lines',name='Training Data', line={'width': 0.25}))\n",
    "        fig.update_layout(height=300,width=800,template='plotly_white',title='Training Signal Visualisation',\n",
    "                          margin=dict(l=50,r=80,t=50,b=40))\n",
    "        \n",
    "        # Plot the test data as well \n",
    "        if(eval_id[2]):\n",
    "            fig.add_trace(go.Scatter(x=eval_df.index, y=eval_df['signal'],mode='lines',name='Test Data',line={'width': 0.25}))\n",
    "            fig.update_layout(title='Training/Test Signal Visualisation')\n",
    "        fig.show()\n",
    "    \n",
    "    ''' 4. Cross Validation, Training/Evaluation, one evaluation'''\n",
    "    lst_res = []; names = []; lst_train = []; lst_eval = []; lst_one = []; lst_res_mean = []\n",
    "    if(any(eval_id)):\n",
    "        for name, model in models:  # cycle through models & evaluate either cv or train/test\n",
    "            names.append(name)\n",
    "            \n",
    "            # Cross Validation Model on Training Se\n",
    "            if(eval_id[0]):\n",
    "                t0=time.time()\n",
    "                kfold = KFold(n_splits=n_fold)\n",
    "                cv_res = cross_val_score(model,X_train,y_train, cv=kfold, scoring=scoring)\n",
    "                t1 = time.time()\n",
    "                lst_res.append(cv_res)\n",
    "                tt1 = t1-t0 # total time for n_fold cross evaluation\n",
    "                \n",
    "            # Evaluate Fit Model on Training Data\n",
    "            t2 = time.time()\n",
    "            if(eval_id[1]):\n",
    "                t2 = time.time()\n",
    "                res = model.fit(X_train,y_train)\n",
    "                train_res = accuracy_score(res.predict(X_train),y_train); lst_train.append(train_res)\n",
    "            if(eval_id[2]):\n",
    "                if(eval_id[1] is False):  # If training hasn't been called yet\n",
    "                    res = model.fit(X_train,y_train)\n",
    "                eval_res = accuracy_score(res.predict(X_eval),y_eval); lst_eval.append(eval_res)\n",
    "            t3 = time.time()\n",
    "            tt2 = t3-t2 # total time for training/evaluation train/prediction\n",
    "            \n",
    "            # Evaluate model on entire dataset\n",
    "            if(eval_id[3]):\n",
    "                t4 = time.time()\n",
    "                res = model.fit(X_one,y_one)\n",
    "                one_res = accuracy_score(res.predict(X_one),y_one); lst_one.append(one_res)\n",
    "                t5 = time.time()\n",
    "                tt3 = t5-t4 # total time for training & evaluation on whole dataframe\n",
    "            \n",
    "            ''' [out] Verbal Outputs '''\n",
    "            # Cross Validation / Training / Evaluation Model Evaluation / Section Times\n",
    "            lst_res_mean.append(cv_res.mean())\n",
    "            fn1 = cv_res.mean(); fn2 = cv_res.std();\n",
    "            fn3 = train_res; fn4 = eval_res; fn5 = one_res\n",
    "            print(f\"{name} : {fn1:.3f}({fn2:.3f}) -> {tt1:.2f}s | {fn3:.3f} & {fn4:.3f} -> {tt2:.2f}s | {fn5:.3f} -> {tt3:.2}s\")\n",
    "      \n",
    "    s0 = pd.Series(np.array(lst_res_mean),index=names)\n",
    "    s1 = pd.Series(np.array(lst_train),index=names)\n",
    "    s2 = pd.Series(np.array(lst_eval),index=names)\n",
    "    s3 = pd.Series(np.array(lst_one),index=names)\n",
    "    pdf = pd.concat([s0,s1,s2,s3],axis=1)\n",
    "    pdf.columns = ['cv_average','train','test','all']\n",
    "    s4 = pd.Series([tt1,tt2,tt3],index=['cv','train/test','all'])\n",
    "        \n",
    "    ''' 5. Visual Ouputs '''\n",
    "    if(plot_id[1]): \n",
    "        \n",
    "        sns.set(style=\"whitegrid\")\n",
    "        fig,ax = plt.subplots(1,2,figsize=(15,4))\n",
    "        ax[0].set_title(f'{n_fold} Cross Validation Results')\n",
    "        sns.boxplot(data=lst_res, ax=ax[0], orient=\"v\",width=0.3)\n",
    "        ax[0].set_xticklabels(names)\n",
    "        sns.stripplot(data=lst_res,ax=ax[0], orient='v',color=\".3\",linewidth=1)\n",
    "        ax[0].set_xticklabels(names)\n",
    "        ax[0].xaxis.grid(True)\n",
    "        ax[0].set(xlabel=\"\")\n",
    "        if(cv_yrange is not None):\n",
    "            ax[0].set_ylim(cv_yrange)\n",
    "        sns.despine(trim=True, left=True)\n",
    "    \n",
    "        sns.heatmap(pdf,vmin=hm_vvals[0],vmax=hm_vvals[1],center=hm_vvals[2],\n",
    "                    ax=ax[1],square=False,lw=2,annot=True,fmt='.3f',cmap='Blues')\n",
    "        ax[1].set_title('Accuracy Scores')\n",
    "        plt.show()"
   ]
  },
  {
   "cell_type": "code",
   "execution_count": 82,
   "metadata": {},
   "outputs": [
    {
     "name": "stdout",
     "output_type": "stream",
     "text": [
      "Evaluation Function\n",
      "Cross Validation Activated, n_splits : 5, scoring metric: accuracy\n",
      "Train/Evaluation Set Spit Activated: 0.2\n",
      "\n",
      "Using Features: Index(['Open', 'High', 'Low', 'Close', 'Volume_(BTC)', 'Volume_(Currency)',\n",
      "       'Weighted_Price', 'MA21', 'MA63', 'MA252', 'EMA10', 'EMA30', 'EMA200',\n",
      "       'MOM10', 'MOM30', 'RSI10', 'RSI30', 'RSI200', '%K10', '%K30', '%K200',\n",
      "       '%D10', '%D30', '%D200'],\n",
      "      dtype='object')\n",
      "Target Variable: signal\n",
      "\n",
      "LDA : 0.780(0.041) -> 0.47s | 0.798 & 0.793 -> 0.11s | 0.800 -> 0.13s\n",
      "TREE : 0.793(0.053) -> 10.04s | 1.000 & 0.788 -> 2.26s | 1.000 -> 3.1s\n",
      "NB : 0.649(0.033) -> 0.19s | 0.667 & 0.527 -> 0.06s | 0.680 -> 0.06s\n",
      "GBM : 0.806(0.046) -> 52.44s | 0.832 & 0.817 -> 12.06s | 0.827 -> 1.6e+01s\n",
      "RF : 0.831(0.053) -> 24.93s | 0.999 & 0.860 -> 6.65s | 0.999 -> 8.9s\n"
     ]
    },
    {
     "data": {
      "image/png": "[encoded data removed]",
      "text/plain": [
       "<Figure size 1500x400 with 3 Axes>"
      ]
     },
     "metadata": {},
     "output_type": "display_data"
    }
   ],
   "source": [
    "modelEval(train_df,split_id=[0.2,None],plot_id=[False,True])\n"
   ]
  },
  {
   "cell_type": "code",
   "execution_count": 84,
   "metadata": {},
   "outputs": [],
   "source": [
    "from tqdm import tqdm"
   ]
  },
  {
   "cell_type": "code",
   "execution_count": 92,
   "metadata": {},
   "outputs": [],
   "source": [
    "def calculate_returns(model, train_df, eval_df, initial_portfolio_value=10000.0):\n",
    "    bought = 0\n",
    "    purchase_price = -1.0\n",
    "    portfolio_value = initial_portfolio_value\n",
    "    feature = 'signal'\n",
    "\n",
    "    y_train = train_df[feature]\n",
    "    X_train = train_df.loc[:, train_df.columns != feature]\n",
    "    X_eval = eval_df.loc[:, eval_df.columns != feature]\n",
    "    \n",
    "    # model fit\n",
    "    res = model.fit(X_train,y_train)\n",
    "    pred_signal = res.predict(X_eval)\n",
    "\n",
    "    # pred_df -> X_eval + pred_signal\n",
    "    pred_df = X_eval.copy()\n",
    "    pred_df['signal'] = pred_signal\n",
    "\n",
    "    # assuming entire portfolio is used to buy the stock\n",
    "    print(\"no. of rows: \", len(pred_df))\n",
    "    for index, row in (pred_df.iterrows()):\n",
    "        if row['signal']==0 and bought==1:\n",
    "            bought = 0\n",
    "            portfolio_value += portfolio_value*(row['Close']-purchase_price)/purchase_price\n",
    "            # portforlio value changes by the percentage change in price\n",
    "        elif row['signal']==1 and bought==0:\n",
    "            bought = 1\n",
    "            purchase_price = row['Close']\n",
    "\n",
    "    print(\"initial portfolio value: \", initial_portfolio_value)\n",
    "    print(\"final portfolio value: \", portfolio_value)\n",
    "    print(\"percentage returns: \", (portfolio_value-initial_portfolio_value)/initial_portfolio_value*100)\n",
    "        "
   ]
  },
  {
   "cell_type": "code",
   "execution_count": 93,
   "metadata": {},
   "outputs": [
    {
     "name": "stdout",
     "output_type": "stream",
     "text": [
      "model:  LDA\n",
      "no. of rows:  8106\n",
      "initial portfolio value:  10000.0\n",
      "final portfolio value:  621767.415085089\n",
      "percentage returns:  6117.67415085089\n",
      "\n",
      "model:  TREE\n",
      "no. of rows:  8106\n",
      "initial portfolio value:  10000.0\n",
      "final portfolio value:  138999.70236142198\n",
      "percentage returns:  1289.9970236142199\n",
      "\n",
      "model:  NB\n",
      "no. of rows:  8106\n",
      "initial portfolio value:  10000.0\n",
      "final portfolio value:  76598.5644363963\n",
      "percentage returns:  665.9856443639629\n",
      "\n",
      "model:  GBM\n",
      "no. of rows:  8106\n",
      "initial portfolio value:  10000.0\n",
      "final portfolio value:  369073.13165513636\n",
      "percentage returns:  3590.7313165513633\n",
      "\n",
      "model:  RF\n",
      "no. of rows:  8106\n",
      "initial portfolio value:  10000.0\n",
      "final portfolio value:  267739.8228191141\n",
      "percentage returns:  2577.398228191141\n",
      "\n"
     ]
    }
   ],
   "source": [
    "for model in models:\n",
    "    print(\"model: \", model[0])\n",
    "    calculate_returns(model[1], train_df, val_df)\n",
    "    print()"
   ]
  },
  {
   "cell_type": "code",
   "execution_count": null,
   "metadata": {},
   "outputs": [],
   "source": []
  }
 ],
 "metadata": {
  "kernelspec": {
   "display_name": "ds",
   "language": "python",
   "name": "python3"
  },
  "language_info": {
   "codemirror_mode": {
    "name": "ipython",
    "version": 3
   },
   "file_extension": ".py",
   "mimetype": "text/x-python",
   "name": "python",
   "nbconvert_exporter": "python",
   "pygments_lexer": "ipython3",
   "version": "3.9.18"
  }
 },
 "nbformat": 4,
 "nbformat_minor": 2
}
